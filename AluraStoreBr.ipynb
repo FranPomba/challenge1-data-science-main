{
  "cells": [
    {
      "cell_type": "markdown",
      "metadata": {
        "id": "RhEdWd9YUR6H"
      },
      "source": [
        "### Importação dos dados\n",
        "\n"
      ]
    },
    {
      "cell_type": "code",
      "execution_count": 9,
      "metadata": {
        "colab": {
          "base_uri": "https://localhost:8080/",
          "height": 206
        },
        "id": "T3EvaeQ_INIL",
        "outputId": "7194bc65-372c-47e6-cb47-d4bfc9952c91"
      },
      "outputs": [
        {
          "data": {
            "text/html": [
              "<div>\n",
              "<style scoped>\n",
              "    .dataframe tbody tr th:only-of-type {\n",
              "        vertical-align: middle;\n",
              "    }\n",
              "\n",
              "    .dataframe tbody tr th {\n",
              "        vertical-align: top;\n",
              "    }\n",
              "\n",
              "    .dataframe thead th {\n",
              "        text-align: right;\n",
              "    }\n",
              "</style>\n",
              "<table border=\"1\" class=\"dataframe\">\n",
              "  <thead>\n",
              "    <tr style=\"text-align: right;\">\n",
              "      <th></th>\n",
              "      <th>Produto</th>\n",
              "      <th>Categoria do Produto</th>\n",
              "      <th>Preço</th>\n",
              "      <th>Frete</th>\n",
              "      <th>Data da Compra</th>\n",
              "      <th>Vendedor</th>\n",
              "      <th>Local da compra</th>\n",
              "      <th>Avaliação da compra</th>\n",
              "      <th>Tipo de pagamento</th>\n",
              "      <th>Quantidade de parcelas</th>\n",
              "      <th>lat</th>\n",
              "      <th>lon</th>\n",
              "    </tr>\n",
              "  </thead>\n",
              "  <tbody>\n",
              "    <tr>\n",
              "      <th>0</th>\n",
              "      <td>Assistente virtual</td>\n",
              "      <td>eletronicos</td>\n",
              "      <td>219.08</td>\n",
              "      <td>9.249790</td>\n",
              "      <td>16/01/2021</td>\n",
              "      <td>Pedro Gomes</td>\n",
              "      <td>SP</td>\n",
              "      <td>4</td>\n",
              "      <td>cartao_credito</td>\n",
              "      <td>8</td>\n",
              "      <td>-22.19</td>\n",
              "      <td>-48.79</td>\n",
              "    </tr>\n",
              "    <tr>\n",
              "      <th>1</th>\n",
              "      <td>Mesa de jantar</td>\n",
              "      <td>moveis</td>\n",
              "      <td>256.35</td>\n",
              "      <td>11.234305</td>\n",
              "      <td>18/05/2022</td>\n",
              "      <td>Beatriz Moraes</td>\n",
              "      <td>RJ</td>\n",
              "      <td>1</td>\n",
              "      <td>cartao_credito</td>\n",
              "      <td>4</td>\n",
              "      <td>-22.25</td>\n",
              "      <td>-42.66</td>\n",
              "    </tr>\n",
              "    <tr>\n",
              "      <th>2</th>\n",
              "      <td>Jogo de tabuleiro</td>\n",
              "      <td>brinquedos</td>\n",
              "      <td>279.51</td>\n",
              "      <td>21.262681</td>\n",
              "      <td>15/03/2021</td>\n",
              "      <td>João Souza</td>\n",
              "      <td>DF</td>\n",
              "      <td>1</td>\n",
              "      <td>cartao_credito</td>\n",
              "      <td>1</td>\n",
              "      <td>-15.83</td>\n",
              "      <td>-47.86</td>\n",
              "    </tr>\n",
              "    <tr>\n",
              "      <th>3</th>\n",
              "      <td>Micro-ondas</td>\n",
              "      <td>eletrodomesticos</td>\n",
              "      <td>1009.99</td>\n",
              "      <td>54.667344</td>\n",
              "      <td>03/05/2022</td>\n",
              "      <td>João Souza</td>\n",
              "      <td>RS</td>\n",
              "      <td>4</td>\n",
              "      <td>boleto</td>\n",
              "      <td>1</td>\n",
              "      <td>-30.17</td>\n",
              "      <td>-53.50</td>\n",
              "    </tr>\n",
              "    <tr>\n",
              "      <th>4</th>\n",
              "      <td>Cadeira de escritório</td>\n",
              "      <td>moveis</td>\n",
              "      <td>446.99</td>\n",
              "      <td>26.964689</td>\n",
              "      <td>07/11/2020</td>\n",
              "      <td>Larissa Alves</td>\n",
              "      <td>MG</td>\n",
              "      <td>5</td>\n",
              "      <td>boleto</td>\n",
              "      <td>1</td>\n",
              "      <td>-18.10</td>\n",
              "      <td>-44.38</td>\n",
              "    </tr>\n",
              "  </tbody>\n",
              "</table>\n",
              "</div>"
            ],
            "text/plain": [
              "                 Produto Categoria do Produto    Preço      Frete  \\\n",
              "0     Assistente virtual          eletronicos   219.08   9.249790   \n",
              "1         Mesa de jantar               moveis   256.35  11.234305   \n",
              "2      Jogo de tabuleiro           brinquedos   279.51  21.262681   \n",
              "3            Micro-ondas     eletrodomesticos  1009.99  54.667344   \n",
              "4  Cadeira de escritório               moveis   446.99  26.964689   \n",
              "\n",
              "  Data da Compra        Vendedor Local da compra  Avaliação da compra  \\\n",
              "0     16/01/2021     Pedro Gomes              SP                    4   \n",
              "1     18/05/2022  Beatriz Moraes              RJ                    1   \n",
              "2     15/03/2021      João Souza              DF                    1   \n",
              "3     03/05/2022      João Souza              RS                    4   \n",
              "4     07/11/2020   Larissa Alves              MG                    5   \n",
              "\n",
              "  Tipo de pagamento  Quantidade de parcelas    lat    lon  \n",
              "0    cartao_credito                       8 -22.19 -48.79  \n",
              "1    cartao_credito                       4 -22.25 -42.66  \n",
              "2    cartao_credito                       1 -15.83 -47.86  \n",
              "3            boleto                       1 -30.17 -53.50  \n",
              "4            boleto                       1 -18.10 -44.38  "
            ]
          },
          "execution_count": 9,
          "metadata": {},
          "output_type": "execute_result"
        }
      ],
      "source": [
        "import pandas as pd\n",
        "\n",
        "url = \"./base-de-dados-challenge-1/loja_1.csv\"\n",
        "url2 = \"./base-de-dados-challenge-1/loja_2.csv\"\n",
        "url3 = \"./base-de-dados-challenge-1/loja_3.csv\"\n",
        "url4 = \"./base-de-dados-challenge-1/loja_4.csv\"\n",
        "\n",
        "loja = pd.read_csv(url)\n",
        "loja2 = pd.read_csv(url2)\n",
        "loja3 = pd.read_csv(url3)\n",
        "loja4 = pd.read_csv(url4)\n",
        "\n",
        "loja.head()"
      ]
    },
    {
      "cell_type": "markdown",
      "metadata": {
        "id": "X62IW3KFUIYm"
      },
      "source": [
        "#1. Análise do faturamento\n"
      ]
    },
    {
      "cell_type": "code",
      "execution_count": 6,
      "metadata": {
        "id": "xykobSftV64I"
      },
      "outputs": [],
      "source": [
        "faturamento_loja1 = sum(loja[\"Preço\"])\n",
        "faturamento_loja2 = sum(loja2[\"Preço\"])\n",
        "faturamento_loja3 = sum(loja3[\"Preço\"])\n",
        "faturamento_loja4 = sum(loja4[\"Preço\"])"
      ]
    },
    {
      "cell_type": "code",
      "execution_count": 40,
      "metadata": {
        "id": "KDyr8E71V3m-"
      },
      "outputs": [
        {
          "name": "stdout",
          "output_type": "stream",
          "text": [
            "O faturamento total da loja 1 é de R$ 1534509.12\n"
          ]
        }
      ],
      "source": [
        "print(f\"O faturamento total da loja 1 é de R$ {faturamento_loja1:.2f}\")\n"
      ]
    },
    {
      "cell_type": "code",
      "execution_count": 41,
      "metadata": {},
      "outputs": [
        {
          "name": "stdout",
          "output_type": "stream",
          "text": [
            "O faturamento total da loja 2 é de R$ 1488459.06\n"
          ]
        }
      ],
      "source": [
        "print(f\"O faturamento total da loja 2 é de R$ {faturamento_loja2:.2f}\")\n"
      ]
    },
    {
      "cell_type": "code",
      "execution_count": 42,
      "metadata": {},
      "outputs": [
        {
          "name": "stdout",
          "output_type": "stream",
          "text": [
            "O faturamento total da loja 3 é de R$ 1464025.03\n"
          ]
        }
      ],
      "source": [
        "print(f\"O faturamento total da loja 3 é de R$ {faturamento_loja3:.2f}\")\n"
      ]
    },
    {
      "cell_type": "code",
      "execution_count": 43,
      "metadata": {},
      "outputs": [
        {
          "name": "stdout",
          "output_type": "stream",
          "text": [
            "O faturamento total da loja 4 é de R$ 1384497.58\n"
          ]
        }
      ],
      "source": [
        "print(f\"O faturamento total da loja 4 é de R$ {faturamento_loja4:.2f}\")\n"
      ]
    },
    {
      "cell_type": "markdown",
      "metadata": {
        "id": "2V_vcAPzWZmR"
      },
      "source": [
        "# 2. Vendas por Categoria\n"
      ]
    },
    {
      "cell_type": "code",
      "execution_count": 80,
      "metadata": {
        "id": "A34YupIuYhfF"
      },
      "outputs": [],
      "source": [
        "def vendas_categoria(loja):\n",
        "    set_categoria = list(set(loja[\"Categoria do Produto\"]))\n",
        "    lista_categoria = []\n",
        "    for categoria in set_categoria:\n",
        "        lista = [item for item in loja[\"Categoria do Produto\"] if item == categoria]\n",
        "        lista_categoria.append(lista)\n",
        "    vendas_categoria = {set_categoria[i]: len(lista_categoria[i]) for i in range(len(set_categoria))}\n",
        "    return vendas_categoria\n",
        "\n",
        "    \n",
        "\n",
        "vendas_categoria_loja_1 = vendas_categoria(loja)\n",
        "vendas_categoria_loja_2 = vendas_categoria(loja2)\n",
        "vendas_categoria_loja_3 = vendas_categoria(loja3)\n",
        "vendas_categoria_loja_4 = vendas_categoria(loja4)"
      ]
    },
    {
      "cell_type": "code",
      "execution_count": 81,
      "metadata": {
        "id": "yZR6cOjXYSk1"
      },
      "outputs": [
        {
          "name": "stdout",
          "output_type": "stream",
          "text": [
            "vendas por categorias loja 1\n",
            "{'livros': 173, 'brinquedos': 324, 'utilidades domesticas': 171, 'moveis': 465, 'eletronicos': 448, 'instrumentos musicais': 182, 'eletrodomesticos': 312, 'esporte e lazer': 284}\n"
          ]
        }
      ],
      "source": [
        "print(\"vendas por categorias loja 1\")\n",
        "print(vendas_categoria_loja_1)"
      ]
    },
    {
      "cell_type": "code",
      "execution_count": 82,
      "metadata": {},
      "outputs": [
        {
          "name": "stdout",
          "output_type": "stream",
          "text": [
            "vendas por categorias loja 2\n",
            "{'livros': 197, 'brinquedos': 313, 'utilidades domesticas': 181, 'moveis': 442, 'eletronicos': 422, 'instrumentos musicais': 224, 'eletrodomesticos': 305, 'esporte e lazer': 275}\n"
          ]
        }
      ],
      "source": [
        "print(\"vendas por categorias loja 2\")\n",
        "print(vendas_categoria_loja_2)"
      ]
    },
    {
      "cell_type": "code",
      "execution_count": 83,
      "metadata": {},
      "outputs": [
        {
          "name": "stdout",
          "output_type": "stream",
          "text": [
            "vendas por categorias loja 3\n",
            "{'livros': 185, 'brinquedos': 315, 'utilidades domesticas': 177, 'moveis': 499, 'eletronicos': 451, 'instrumentos musicais': 177, 'eletrodomesticos': 278, 'esporte e lazer': 277}\n"
          ]
        }
      ],
      "source": [
        "print(\"vendas por categorias loja 3\")\n",
        "print(vendas_categoria_loja_3)\n"
      ]
    },
    {
      "cell_type": "code",
      "execution_count": 84,
      "metadata": {},
      "outputs": [
        {
          "name": "stdout",
          "output_type": "stream",
          "text": [
            "vendas por categorias loja 4\n",
            "{'livros': 187, 'brinquedos': 338, 'utilidades domesticas': 201, 'moveis': 480, 'eletronicos': 451, 'instrumentos musicais': 170, 'eletrodomesticos': 254, 'esporte e lazer': 277}\n"
          ]
        }
      ],
      "source": [
        "print(\"vendas por categorias loja 4\")\n",
        "print(vendas_categoria_loja_4)\n"
      ]
    },
    {
      "cell_type": "markdown",
      "metadata": {
        "id": "Rq6tU_xSY3jk"
      },
      "source": [
        "# 3. Média de Avaliação das Lojas"
      ]
    },
    {
      "cell_type": "code",
      "execution_count": 55,
      "metadata": {
        "id": "bh3jjjJwY5MU"
      },
      "outputs": [],
      "source": [
        "avaliacao_media_loja1 = sum(loja[\"Avaliação da compra\"]) / len(\n",
        "    loja[\"Avaliação da compra\"]\n",
        ")\n",
        "avaliacao_media_loja2 = sum(loja2[\"Avaliação da compra\"]) / len(\n",
        "    loja2[\"Avaliação da compra\"]\n",
        ")\n",
        "avaliacao_media_loja3 = sum(loja3[\"Avaliação da compra\"]) / len(\n",
        "    loja3[\"Avaliação da compra\"]\n",
        ")\n",
        "avaliacao_media_loja4 = sum(loja4[\"Avaliação da compra\"]) / len(\n",
        "    loja4[\"Avaliação da compra\"]\n",
        ")"
      ]
    },
    {
      "cell_type": "code",
      "execution_count": 45,
      "metadata": {
        "id": "I0KkjPoTY88F"
      },
      "outputs": [
        {
          "name": "stdout",
          "output_type": "stream",
          "text": [
            "Avaliação média das loja 1: 3.98\n"
          ]
        }
      ],
      "source": [
        "print(f\"Avaliação média das loja 1: {avaliacao_media_loja1:.2f}\")"
      ]
    },
    {
      "cell_type": "code",
      "execution_count": 47,
      "metadata": {},
      "outputs": [
        {
          "name": "stdout",
          "output_type": "stream",
          "text": [
            "Avaliação média das loja 2: 4.04\n"
          ]
        }
      ],
      "source": [
        "print(f\"Avaliação média das loja 2: {avaliacao_media_loja2:.2f}\")"
      ]
    },
    {
      "cell_type": "code",
      "execution_count": 38,
      "metadata": {},
      "outputs": [
        {
          "name": "stdout",
          "output_type": "stream",
          "text": [
            "Avaliação média das loja 3: 4.05\n"
          ]
        }
      ],
      "source": [
        "print(f\"Avaliação média das loja 3: {avaliacao_media_loja3:.2f}\")\n"
      ]
    },
    {
      "cell_type": "code",
      "execution_count": 39,
      "metadata": {},
      "outputs": [
        {
          "name": "stdout",
          "output_type": "stream",
          "text": [
            "Avaliação média das loja 4: 4.00\n"
          ]
        }
      ],
      "source": [
        "print(f\"Avaliação média das loja 4: {avaliacao_media_loja4:.2f}\")"
      ]
    },
    {
      "cell_type": "markdown",
      "metadata": {
        "id": "DmNp1KPBZCm-"
      },
      "source": [
        "# 4. Produtos Mais e Menos Vendidos"
      ]
    },
    {
      "cell_type": "code",
      "execution_count": 96,
      "metadata": {},
      "outputs": [],
      "source": [
        "def produtos_mais_e_menos_vendidos(loja):\n",
        "    set_produtos = list(set(loja[\"Produto\"]))\n",
        "    lista_produto = []\n",
        "    for produto in set_produtos:\n",
        "        lista = [item for item in loja[\"Produto\"] if item == produto]\n",
        "        lista_produto.append(lista)\n",
        "    dict_produtos = {set_produtos[i]: len(lista_produto[i]) for i in range(len(set_produtos))}\n",
        "    mais_vendidos = max(dict_produtos, key=dict_produtos.get)\n",
        "    menos_vendidos = min(dict_produtos, key=dict_produtos.get)\n",
        "    return mais_vendidos, dict_produtos[mais_vendidos], menos_vendidos, dict_produtos[menos_vendidos]"
      ]
    },
    {
      "cell_type": "code",
      "execution_count": 101,
      "metadata": {
        "id": "qoyjqijQZHfF"
      },
      "outputs": [
        {
          "name": "stdout",
          "output_type": "stream",
          "text": [
            "O produto mais vendido da loja 1 é Micro-ondas com 60 vendas.\n",
            "    E o menos vendido é o Headset com 33 vendas\n",
            "      \n"
          ]
        }
      ],
      "source": [
        "produto_mais_l1, qtd_mais_l1, produto_menos_l1, qtd_menos_l1 = produtos_mais_e_menos_vendidos(loja)\n",
        "\n",
        "print(f\"\"\"O produto mais vendido da loja 1 é {produto_mais_l1} com {qtd_mais_l1} vendas.\n",
        "    E o menos vendido é o {produto_menos_l1} com {qtd_menos_l1} vendas\n",
        "      \"\"\")\n"
      ]
    },
    {
      "cell_type": "code",
      "execution_count": 102,
      "metadata": {},
      "outputs": [
        {
          "name": "stdout",
          "output_type": "stream",
          "text": [
            "O produto mais vendido da loja 1 é Iniciando em programação com 65 vendas.\n",
            "      E o menos vendido é o Jogo de tabuleiro com 32 vendas\n",
            "      \n"
          ]
        }
      ],
      "source": [
        "produto_mais_l2, qtd_mais_l2, produto_menos_l2, qtd_menos_l2 = (\n",
        "    produtos_mais_e_menos_vendidos(loja2)\n",
        ")\n",
        "\n",
        "print(f\"\"\"O produto mais vendido da loja 1 é {produto_mais_l2} com {qtd_mais_l2} vendas.\n",
        "      E o menos vendido é o {produto_menos_l2} com {qtd_menos_l2} vendas\n",
        "      \"\"\")\n"
      ]
    },
    {
      "cell_type": "code",
      "execution_count": 103,
      "metadata": {},
      "outputs": [
        {
          "name": "stdout",
          "output_type": "stream",
          "text": [
            "O produto mais vendido da loja 3 é Kit banquetas com 57 vendas.\n",
            "        E o menos vendido é o Blocos de montar com 35 vendas\n",
            "      \n"
          ]
        }
      ],
      "source": [
        "produto_mais_l3, qtd_mais_l3, produto_menos_l3, qtd_menos_l3 = (\n",
        "    produtos_mais_e_menos_vendidos(loja3)\n",
        ")\n",
        "\n",
        "print(f\"\"\"O produto mais vendido da loja 3 é {produto_mais_l3} com {qtd_mais_l3} vendas.\n",
        "        E o menos vendido é o {produto_menos_l3} com {qtd_menos_l3} vendas\n",
        "      \"\"\")\n"
      ]
    },
    {
      "cell_type": "code",
      "execution_count": 104,
      "metadata": {},
      "outputs": [
        {
          "name": "stdout",
          "output_type": "stream",
          "text": [
            "O produto mais vendido da loja 4 é Cama box com 62 vendas.\n",
            "        E o menos vendido é o Guitarra com 33 vendas\n",
            "      \n"
          ]
        }
      ],
      "source": [
        "produto_mais_l4, qtd_mais_l4, produto_menos_l4, qtd_menos_l4 = (\n",
        "    produtos_mais_e_menos_vendidos(loja4)\n",
        ")\n",
        "\n",
        "print(f\"\"\"O produto mais vendido da loja 4 é {produto_mais_l4} com {qtd_mais_l4} vendas.\n",
        "        E o menos vendido é o {produto_menos_l4} com {qtd_menos_l4} vendas\n",
        "      \"\"\")\n"
      ]
    },
    {
      "cell_type": "markdown",
      "metadata": {
        "id": "Fl0cGi3bZKqU"
      },
      "source": [
        "# 5. Frete Médio por Loja\n"
      ]
    },
    {
      "cell_type": "code",
      "execution_count": 69,
      "metadata": {
        "id": "S2JeaCykZNy9"
      },
      "outputs": [],
      "source": [
        "frete_medio_loja1 = sum(loja[\"Frete\"]) / len(loja[\"Frete\"])\n",
        "frete_medio_loja2 = sum(loja2[\"Frete\"]) / len(loja2[\"Frete\"])\n",
        "frete_medio_loja3 = sum(loja3[\"Frete\"]) / len(loja3[\"Frete\"])\n",
        "frete_medio_loja4 = sum(loja4[\"Frete\"]) / len(loja4[\"Frete\"])"
      ]
    },
    {
      "cell_type": "code",
      "execution_count": 70,
      "metadata": {
        "id": "0tSdCie9ZQlt"
      },
      "outputs": [
        {
          "name": "stdout",
          "output_type": "stream",
          "text": [
            "O frete médio da loja 1 é de 34.69\n"
          ]
        }
      ],
      "source": [
        "print(f\"O frete médio da loja 1 é de {frete_medio_loja1:.2f}\")"
      ]
    },
    {
      "cell_type": "code",
      "execution_count": 71,
      "metadata": {},
      "outputs": [
        {
          "name": "stdout",
          "output_type": "stream",
          "text": [
            "O frete médio da loja 2 é de 33.62\n"
          ]
        }
      ],
      "source": [
        "print(f\"O frete médio da loja 2 é de {frete_medio_loja2:.2f}\")\n"
      ]
    },
    {
      "cell_type": "code",
      "execution_count": 72,
      "metadata": {},
      "outputs": [
        {
          "name": "stdout",
          "output_type": "stream",
          "text": [
            "O frete médio da loja 3 é de 33.07\n"
          ]
        }
      ],
      "source": [
        "print(f\"O frete médio da loja 3 é de {frete_medio_loja3:.2f}\")\n"
      ]
    },
    {
      "cell_type": "code",
      "execution_count": 73,
      "metadata": {},
      "outputs": [
        {
          "name": "stdout",
          "output_type": "stream",
          "text": [
            "O frete médio da loja 4 é de 31.28\n"
          ]
        }
      ],
      "source": [
        "print(f\"O frete médio da loja 4 é de {frete_medio_loja4:.2f}\")\n"
      ]
    }
  ],
  "metadata": {
    "colab": {
      "provenance": []
    },
    "kernelspec": {
      "display_name": "Python 3",
      "name": "python3"
    },
    "language_info": {
      "codemirror_mode": {
        "name": "ipython",
        "version": 3
      },
      "file_extension": ".py",
      "mimetype": "text/x-python",
      "name": "python",
      "nbconvert_exporter": "python",
      "pygments_lexer": "ipython3",
      "version": "3.12.4"
    }
  },
  "nbformat": 4,
  "nbformat_minor": 0
}
